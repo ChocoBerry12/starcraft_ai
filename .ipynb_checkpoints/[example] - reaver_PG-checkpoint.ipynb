{
 "cells": [
  {
   "cell_type": "code",
   "execution_count": 1,
   "metadata": {},
   "outputs": [
    {
     "name": "stderr",
     "output_type": "stream",
     "text": [
      "Using TensorFlow backend.\n"
     ]
    }
   ],
   "source": [
    "# Copyright (C) 2019 SAMSUNG SDS <Team.SAIDA@gmail.com>\n",
    "#\n",
    "# This code is distribued under the terms and conditions from the MIT License (MIT).\n",
    "#\n",
    "# Authors : Uk Jo, Iljoo Yoon, Hyunjae Lee, Daehun Jun\n",
    "\n",
    "import numpy as np\n",
    "import os\n",
    "import math\n",
    "from datetime import datetime\n",
    "from core.common.processor import Processor\n",
    "from core.algorithm.REINFORCE import ReinforceAgent\n",
    "from core.callbacks import DrawTrainMovingAvgPlotCallback\n",
    "from saida_gym.starcraft.avoidReavers import AvoidReavers\n",
    "import saida_gym.envs.conn.connection_env as Config\n",
    "\n",
    "from keras.layers import Dense, Reshape\n",
    "from keras.optimizers import Adam\n",
    "from keras.models import Sequential"
   ]
  },
  {
   "cell_type": "code",
   "execution_count": 2,
   "metadata": {},
   "outputs": [],
   "source": [
    "# Hyper Parameter\n",
    "EPISODES = 1000\n",
    "LEARNING_RATE = 0.0004\n",
    "# 5 features of a Dropship  + 6 features of 3 Reavers\n",
    "STATE_SIZE = 5 + 3 * 6\n",
    "\n",
    "\n",
    "def scale_velocity(v):\n",
    "    return v\n",
    "\n",
    "\n",
    "def scale_coordinate(pos):\n",
    "    return np.tanh(int(pos / 16) / 20)\n",
    "\n",
    "\n",
    "def scale_angle(angle):\n",
    "    return (angle - math.pi) / math.pi\n",
    "\n",
    "\n",
    "def scale_pos(pos):\n",
    "    return int(pos / 16)\n",
    "\n",
    "\n",
    "def scale_pos2(pos):\n",
    "    return int(pos / 8)\n"
   ]
  },
  {
   "cell_type": "code",
   "execution_count": 12,
   "metadata": {},
   "outputs": [],
   "source": [
    "class ReaverProcessor(Processor):\n",
    "    def __init__(self):\n",
    "        self.last_action = None\n",
    "\n",
    "    def process_action(self, action):\n",
    "        self.last_action = action\n",
    "        return action\n",
    "    \n",
    "    def reward_reshape(self, reward, state):\n",
    "        if math.fabs(reward + 0.1) < 0.01:\n",
    "            reward = -5\n",
    "        elif reward == 0:\n",
    "            reward = -0.1\n",
    "        elif reward == -1:\n",
    "            reward = -100\n",
    "        elif reward == 1:\n",
    "            reward = 2\n",
    "\n",
    "        reward += ((state[2] + state[3])/640)*.5\n",
    "        return reward\n",
    "    \n",
    "    def process_step(self, observation, reward, done, info):\n",
    "        state_array = self.process_observation(observation)\n",
    "        reward = self.reward_reshape(reward, state_array)\n",
    "        return state_array, reward, done, info\n",
    "\n",
    "    def process_observation(self, observation, **kwargs):\n",
    "        \"\"\" Pre-process observation\n",
    "\n",
    "        # Argument\n",
    "            observation (object): The current observation from the environment.\n",
    "\n",
    "        # Returns\n",
    "            processed observation\n",
    "\n",
    "        \"\"\"\n",
    "        if len(observation.my_unit) > 0:\n",
    "            s = np.zeros(STATE_SIZE)\n",
    "            me = observation.my_unit[0]\n",
    "            # Observation for Dropship\n",
    "            s[0] = scale_pos(me.pos_x)  # X of coordinates\n",
    "            s[1] = scale_pos(me.pos_y)  # Y of coordinates\n",
    "            s[2] = scale_velocity(me.velocity_x)  # X of velocity\n",
    "            s[3] = scale_velocity(me.velocity_y)  # y of coordinates\n",
    "            s[4] = scale_angle(me.angle)  # Angle of head of dropship\n",
    "\n",
    "            # Observation for Reavers\n",
    "            for ind, ob in enumerate(observation.en_unit):\n",
    "                s[ind * 6 + 5] = scale_pos(ob.pos_x - me.pos_x)  # X of relative coordinates\n",
    "                s[ind * 6 + 6] = scale_pos(ob.pos_y - me.pos_y)  # Y of relative coordinates\n",
    "                s[ind * 6 + 7] = scale_velocity(ob.velocity_x)  # X of velocity\n",
    "                s[ind * 6 + 8] = scale_velocity(ob.velocity_y)  # Y of velocity\n",
    "                s[ind * 6 + 9] = scale_angle(ob.angle)  # Angle of head of Reavers\n",
    "                s[ind * 6 + 10] = scale_angle(1 if ob.accelerating else 0)  # True if Reaver is accelerating\n",
    "\n",
    "        return s"
   ]
  },
  {
   "cell_type": "code",
   "execution_count": 14,
   "metadata": {},
   "outputs": [
    {
     "name": "stdout",
     "output_type": "stream",
     "text": [
      "Initialize...\n",
      "Shared Memory create\u0000\n",
      "SAIDA_AR15580 Shared memory found.\n",
      "_________________________________________________________________\n",
      "Layer (type)                 Output Shape              Param #   \n",
      "=================================================================\n",
      "dense_31 (Dense)             (None, 70)                1680      \n",
      "_________________________________________________________________\n",
      "dense_32 (Dense)             (None, 50)                3550      \n",
      "_________________________________________________________________\n",
      "dense_33 (Dense)             (None, 40)                2040      \n",
      "_________________________________________________________________\n",
      "dense_34 (Dense)             (None, 30)                1230      \n",
      "_________________________________________________________________\n",
      "dense_35 (Dense)             (None, 13)                403       \n",
      "=================================================================\n",
      "Total params: 8,903\n",
      "Trainable params: 8,903\n",
      "Non-trainable params: 0\n",
      "_________________________________________________________________\n",
      "Episode 1: reward: 99.314, steps: 8\n",
      "Episode 2: reward: 69.614, steps: 16\n",
      "close msg is received.\n"
     ]
    },
    {
     "ename": "SystemExit",
     "evalue": "0",
     "output_type": "error",
     "traceback": [
      "An exception has occurred, use %tb to see the full traceback.\n",
      "\u001b[1;31mSystemExit\u001b[0m\u001b[1;31m:\u001b[0m 0\n"
     ]
    },
    {
     "name": "stderr",
     "output_type": "stream",
     "text": [
      "C:\\Anaconda\\lib\\site-packages\\IPython\\core\\interactiveshell.py:3304: UserWarning: To exit: use 'exit', 'quit', or Ctrl-D.\n",
      "  warn(\"To exit: use 'exit', 'quit', or Ctrl-D.\", stacklevel=1)\n"
     ]
    }
   ],
   "source": [
    "if __name__ == '__main__':\n",
    "    TRAINING_MODE = True\n",
    "    FILE_NAME = os.path.basename('result').split('.')[0]\n",
    "\n",
    "    # todo : need to substitute it with env.make() and also remove other parameters such as protobuf_name & verbose!?\n",
    "    # Create an Environment\n",
    "    env = AvoidReavers( move_angle=30, move_dist=3, frames_per_step=24, no_gui=True, local_speed=0)\n",
    "    action_size = env.action_space.n\n",
    "\n",
    "    # Create your model\n",
    "    model = Sequential()\n",
    "    model.add(Dense(70, input_dim=STATE_SIZE, activation='relu'))\n",
    "    model.add(Dense(50, activation='relu'))\n",
    "    model.add(Dense(40, activation='relu'))\n",
    "    model.add(Dense(30, activation='relu'))\n",
    "    model.add(Dense(action_size, activation='softmax'))\n",
    "    model.summary()\n",
    "\n",
    "    # Create your Agent\n",
    "    agent = ReinforceAgent(STATE_SIZE, action_size, processor=ReaverProcessor(), model=model,\n",
    "                           discount_factor=0.9)\n",
    "\n",
    "    agent.compile(Adam(lr=LEARNING_RATE))\n",
    "\n",
    "    # For the Graph\n",
    "    cb_plot = DrawTrainMovingAvgPlotCallback('' + FILE_NAME + '.png', 5, 5, l_label=['episode_reward'])\n",
    "    \n",
    "    \n",
    "    #agent.load_weights(os.path.realpath('../../../../../' + 'result' + '.h5f'))\n",
    "\n",
    "    # Run your agent\n",
    "    agent.run(env, 30000, train_mode=TRAINING_MODE, verbose=2, callbacks=[cb_plot])\n",
    "\n",
    "    agent.save_weights(FILE_NAME + '.h5f', False)\n",
    "\n",
    "    env.close()"
   ]
  }
 ],
 "metadata": {
  "kernelspec": {
   "display_name": "Python 3",
   "language": "python",
   "name": "python3"
  },
  "language_info": {
   "codemirror_mode": {
    "name": "ipython",
    "version": 3
   },
   "file_extension": ".py",
   "mimetype": "text/x-python",
   "name": "python",
   "nbconvert_exporter": "python",
   "pygments_lexer": "ipython3",
   "version": "3.6.8"
  }
 },
 "nbformat": 4,
 "nbformat_minor": 4
}
