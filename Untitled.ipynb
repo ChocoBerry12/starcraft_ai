{
 "cells": [
  {
   "cell_type": "markdown",
   "metadata": {},
   "source": [
    "# Avoid Reave\n",
    "[링크](https://teamsaida.github.io/SAIDA_RL/AvoidReavers)\n",
    "> 3 마리의 리버를 피해서 목적지까지 운행하는 드랍쉽 학습하기"
   ]
  },
  {
   "cell_type": "markdown",
   "metadata": {},
   "source": [
    "## 특징\n",
    "---\n",
    "* 리버의 움직임은 랜덤 - stochastic\n",
    "* 유닛크기에 비해서 맵의 크기가 작으므로 매 step 마다 신중히 움직여야 함\n",
    "* 시작지점 근처는 방해없이 움직일 수 있으므로 여기서 가속하는 등 잘 활용\n",
    "* action 중에서 이동거리를 적당히 잡아야 함 - 너무 짧으면 오래 걸리고, 너무 길면 맵밖으로 나가려는 시도함\n",
    "\n",
    "> `action` - `discrete(0 - 360/angle)` `continuous(x, y, type)` `continuous(theta, radian, type)`\n",
    "\n",
    "> `observation` - `base(가속도, 방어력, 최대속도 등)` `current(현재체력, 현재쉴드, 각도 등)`\n",
    "\n",
    "> `reward` - `given (맵밖에 나가거나 리버와 충돌시 부정적 보상 / 목표에 닿으면 보상)`"
   ]
  },
  {
   "cell_type": "markdown",
   "metadata": {},
   "source": [
    "## jupyter 에서 현재 디렉 찾는 법\n",
    "`os.path.basename('')`"
   ]
  },
  {
   "cell_type": "code",
   "execution_count": null,
   "metadata": {},
   "outputs": [],
   "source": [
    "my_unit {\n",
    "  unit_type: \"Terran_Dropship\"\n",
    "  hp: 150\n",
    "  pos_x: 265\n",
    "  pos_y: 32\n",
    "  angle: 3.215223731408304\n",
    "}\n",
    "en_unit {\n",
    "  unit_type: \"Protoss_Reaver\"\n",
    "  hp: 100\n",
    "  shield: 80\n",
    "  cooldown: 8\n",
    "  pos_x: 163\n",
    "  pos_y: 212\n",
    "  angle: 1.055378782065321\n",
    "}\n",
    "en_unit {\n",
    "  unit_type: \"Protoss_Reaver\"\n",
    "  hp: 100\n",
    "  shield: 80\n",
    "  cooldown: 10\n",
    "  pos_x: 288\n",
    "  pos_y: 208\n",
    "  velocity_x: 1.0\n",
    "  accelerating: true\n",
    "}\n",
    "en_unit {\n",
    "  unit_type: \"Protoss_Reaver\"\n",
    "  hp: 100\n",
    "  shield: 80\n",
    "  cooldown: 9\n",
    "  pos_x: 289\n",
    "  pos_y: 30\n",
    "  velocity_x: -2.12109375\n",
    "  velocity_y: 2.12109375\n",
    "  angle: 2.380738182798515\n",
    "  accelerating: true\n",
    "}\n"
   ]
  },
  {
   "cell_type": "code",
   "execution_count": 1,
   "metadata": {},
   "outputs": [
    {
     "name": "stderr",
     "output_type": "stream",
     "text": [
      "Using TensorFlow backend.\n"
     ]
    }
   ],
   "source": [
    "import numpy as np\n",
    "import os\n",
    "import math\n",
    "from datetime import datetime\n",
    "from core.common.processor import Processor\n",
    "from core.algorithm.REINFORCE import ReinforceAgent\n",
    "from core.callbacks import DrawTrainMovingAvgPlotCallback\n",
    "from saida_gym.starcraft.avoidReavers import AvoidReavers\n",
    "import saida_gym.envs.conn.connection_env as Config\n",
    "\n",
    "from keras.layers import Dense, Reshape\n",
    "from keras.optimizers import Adam\n",
    "from keras.models import Sequential"
   ]
  },
  {
   "cell_type": "code",
   "execution_count": 2,
   "metadata": {},
   "outputs": [],
   "source": [
    "class ReaverProcessor(Processor):\n",
    "\n",
    "    # Process an performed action \n",
    "    def process_action(self, action):\n",
    "        \"do what you want with the action\"\n",
    "        #print(action)\n",
    "        return action\n",
    "\n",
    "    # Process the data given from environment after the step finished.\n",
    "    def process_step(self, observation, reward, done, info):\n",
    "        state_array = self.process_observation(observation)\n",
    "        reward = self.reward_reshape(reward)\n",
    "        return state_array, reward, done, info\n",
    "\n",
    "    # Reshape your reward (Optional)\n",
    "    def reward_reshape(self, reward):\n",
    "        # Maybe I can give more incentive to the agent, when the agent has reached the goal.\n",
    "        if reward == 1 :  \n",
    "            reward = reward * 2\n",
    "        # And prevent to stay at safe start position rather then moving, give a small negative reward in every step.\n",
    "        elif reward == -1 :\n",
    "            reward  = -0.1\n",
    "        \n",
    "        return reward\n",
    "    \n",
    "    # Process the raw observation given from environment\n",
    "    def process_observation(self, observation, **kwargs):\n",
    "        # Raw observation data is the form of JSON(precisely, Protobuf).\n",
    "        # Therefore, we need to transform it into an array or something can be calculated.\n",
    "        \n",
    "        # Define the size of state array. \n",
    "        # This time, I need 23 numbers to make the state, which consists of 5 factors of agent observation and 6 from 3 enemies one.\n",
    "        #print(observation)\n",
    "        STATE_SIZE = 5 + 3 * 6\n",
    "        s = np.zeros(STATE_SIZE) # Make an empty array.\n",
    "        return s\n",
    "    \n",
    "    @staticmethod\n",
    "    def scale_velocity(v):\n",
    "        return v\n",
    "\n",
    "    @staticmethod\n",
    "    def scale_angle(angle):\n",
    "        return (angle - math.pi) / math.pi\n",
    "\n",
    "    @staticmethod\n",
    "    def scale_pos(pos):\n",
    "        return int(pos / 16)\n",
    "        "
   ]
  },
  {
   "cell_type": "code",
   "execution_count": 3,
   "metadata": {
    "collapsed": true,
    "jupyter": {
     "outputs_hidden": true
    }
   },
   "outputs": [
    {
     "name": "stdout",
     "output_type": "stream",
     "text": [
      "Initialize...\n",
      "Shared Memory create\u0000\n",
      "SAIDA_AR19400 Shared memory found.\n",
      "_________________________________________________________________\n",
      "Layer (type)                 Output Shape              Param #   \n",
      "=================================================================\n",
      "dense_1 (Dense)              (None, 70)                1680      \n",
      "_________________________________________________________________\n",
      "dense_2 (Dense)              (None, 50)                3550      \n",
      "_________________________________________________________________\n",
      "dense_3 (Dense)              (None, 40)                2040      \n",
      "_________________________________________________________________\n",
      "dense_4 (Dense)              (None, 30)                1230      \n",
      "_________________________________________________________________\n",
      "dense_5 (Dense)              (None, 13)                403       \n",
      "=================================================================\n",
      "Total params: 8,903\n",
      "Trainable params: 8,903\n",
      "Non-trainable params: 0\n",
      "_________________________________________________________________\n",
      "Starting training for 1000 steps ...\n",
      "  44/1000: episode: 1, duration: 14.752s, episode steps: 44, steps per second: 3, episode reward: 99.100, mean reward: 2.252 [-0.100, 100.000], mean action: 5.773 [0.000, 12.000]\n",
      " 123/1000: episode: 2, duration: 4.601s, episode steps: 79, steps per second: 17, episode reward: 97.100, mean reward: 1.229 [-0.100, 100.000], mean action: 6.316 [0.000, 12.000]\n",
      " 278/1000: episode: 3, duration: 7.564s, episode steps: 155, steps per second: 20, episode reward: 94.600, mean reward: 0.610 [-0.100, 100.000], mean action: 6.155 [0.000, 12.000]\n",
      " 353/1000: episode: 4, duration: 2.894s, episode steps: 75, steps per second: 26, episode reward: 98.200, mean reward: 1.309 [-0.100, 100.000], mean action: 6.093 [0.000, 12.000]\n",
      " 422/1000: episode: 5, duration: 2.933s, episode steps: 69, steps per second: 24, episode reward: 99.200, mean reward: 1.438 [-0.100, 100.000], mean action: 5.478 [0.000, 12.000]\n",
      " 553/1000: episode: 6, duration: 4.570s, episode steps: 131, steps per second: 29, episode reward: 96.800, mean reward: 0.739 [-0.100, 100.000], mean action: 6.534 [0.000, 12.000]\n",
      " 655/1000: episode: 7, duration: 3.815s, episode steps: 102, steps per second: 27, episode reward: 97.100, mean reward: 0.952 [-0.100, 100.000], mean action: 6.618 [0.000, 12.000]\n",
      " 698/1000: episode: 8, duration: 0.813s, episode steps: 43, steps per second: 53, episode reward: 98.300, mean reward: 2.286 [-0.100, 100.000], mean action: 5.721 [0.000, 12.000]\n",
      " 887/1000: episode: 9, duration: 2.999s, episode steps: 189, steps per second: 63, episode reward: 93.300, mean reward: 0.494 [-0.100, 100.000], mean action: 6.212 [0.000, 12.000]\n",
      "Training took 46.7773708 seconds\n",
      "done, took 46.778 seconds\n"
     ]
    },
    {
     "ename": "AttributeError",
     "evalue": "module 'h5py' has no attribute 'File'",
     "output_type": "error",
     "traceback": [
      "\u001b[1;31m---------------------------------------------------------------------------\u001b[0m",
      "\u001b[1;31mAttributeError\u001b[0m                            Traceback (most recent call last)",
      "\u001b[1;32m<ipython-input-3-6f74fb413cd9>\u001b[0m in \u001b[0;36m<module>\u001b[1;34m\u001b[0m\n\u001b[0;32m     30\u001b[0m     \u001b[0magent\u001b[0m\u001b[1;33m.\u001b[0m\u001b[0mrun\u001b[0m\u001b[1;33m(\u001b[0m\u001b[0menv\u001b[0m\u001b[1;33m,\u001b[0m \u001b[1;36m10\u001b[0m \u001b[1;33m*\u001b[0m \u001b[1;36m100\u001b[0m\u001b[1;33m,\u001b[0m \u001b[0mtrain_mode\u001b[0m\u001b[1;33m=\u001b[0m\u001b[0mTRAINING_MODE\u001b[0m\u001b[1;33m,\u001b[0m \u001b[0mverbose\u001b[0m\u001b[1;33m=\u001b[0m\u001b[1;36m2\u001b[0m\u001b[1;33m,\u001b[0m \u001b[0mcallbacks\u001b[0m\u001b[1;33m=\u001b[0m\u001b[1;33m[\u001b[0m\u001b[0mcb_plot\u001b[0m\u001b[1;33m]\u001b[0m\u001b[1;33m)\u001b[0m\u001b[1;33m\u001b[0m\u001b[1;33m\u001b[0m\u001b[0m\n\u001b[0;32m     31\u001b[0m \u001b[1;33m\u001b[0m\u001b[0m\n\u001b[1;32m---> 32\u001b[1;33m     \u001b[0magent\u001b[0m\u001b[1;33m.\u001b[0m\u001b[0msave_weights\u001b[0m\u001b[1;33m(\u001b[0m\u001b[0mFILE_NAME\u001b[0m \u001b[1;33m+\u001b[0m \u001b[1;34m'.h5f'\u001b[0m\u001b[1;33m,\u001b[0m \u001b[1;32mFalse\u001b[0m\u001b[1;33m)\u001b[0m\u001b[1;33m\u001b[0m\u001b[1;33m\u001b[0m\u001b[0m\n\u001b[0m\u001b[0;32m     33\u001b[0m \u001b[1;33m\u001b[0m\u001b[0m\n\u001b[0;32m     34\u001b[0m     \u001b[0menv\u001b[0m\u001b[1;33m.\u001b[0m\u001b[0mclose\u001b[0m\u001b[1;33m(\u001b[0m\u001b[1;33m)\u001b[0m\u001b[1;33m\u001b[0m\u001b[1;33m\u001b[0m\u001b[0m\n",
      "\u001b[1;32m~\\SAIDA_RL\\python\\core\\algorithm\\REINFORCE.py\u001b[0m in \u001b[0;36msave_weights\u001b[1;34m(self, file_path, overwrite)\u001b[0m\n\u001b[0;32m    132\u001b[0m \u001b[1;33m\u001b[0m\u001b[0m\n\u001b[0;32m    133\u001b[0m     \u001b[1;32mdef\u001b[0m \u001b[0msave_weights\u001b[0m\u001b[1;33m(\u001b[0m\u001b[0mself\u001b[0m\u001b[1;33m,\u001b[0m \u001b[0mfile_path\u001b[0m\u001b[1;33m,\u001b[0m \u001b[0moverwrite\u001b[0m\u001b[1;33m=\u001b[0m\u001b[1;32mFalse\u001b[0m\u001b[1;33m)\u001b[0m\u001b[1;33m:\u001b[0m\u001b[1;33m\u001b[0m\u001b[1;33m\u001b[0m\u001b[0m\n\u001b[1;32m--> 134\u001b[1;33m         \u001b[0mself\u001b[0m\u001b[1;33m.\u001b[0m\u001b[0mmodel\u001b[0m\u001b[1;33m.\u001b[0m\u001b[0msave_weights\u001b[0m\u001b[1;33m(\u001b[0m\u001b[0mfile_path\u001b[0m\u001b[1;33m,\u001b[0m \u001b[0moverwrite\u001b[0m\u001b[1;33m)\u001b[0m\u001b[1;33m\u001b[0m\u001b[1;33m\u001b[0m\u001b[0m\n\u001b[0m\u001b[0;32m    135\u001b[0m         \u001b[1;32mreturn\u001b[0m\u001b[1;33m\u001b[0m\u001b[1;33m\u001b[0m\u001b[0m\n",
      "\u001b[1;32mC:\\Anaconda\\lib\\site-packages\\keras\\engine\\network.py\u001b[0m in \u001b[0;36msave_weights\u001b[1;34m(self, filepath, overwrite)\u001b[0m\n\u001b[0;32m   1118\u001b[0m             \u001b[1;32mif\u001b[0m \u001b[1;32mnot\u001b[0m \u001b[0mproceed\u001b[0m\u001b[1;33m:\u001b[0m\u001b[1;33m\u001b[0m\u001b[1;33m\u001b[0m\u001b[0m\n\u001b[0;32m   1119\u001b[0m                 \u001b[1;32mreturn\u001b[0m\u001b[1;33m\u001b[0m\u001b[1;33m\u001b[0m\u001b[0m\n\u001b[1;32m-> 1120\u001b[1;33m         \u001b[1;32mwith\u001b[0m \u001b[0mh5py\u001b[0m\u001b[1;33m.\u001b[0m\u001b[0mFile\u001b[0m\u001b[1;33m(\u001b[0m\u001b[0mfilepath\u001b[0m\u001b[1;33m,\u001b[0m \u001b[1;34m'w'\u001b[0m\u001b[1;33m)\u001b[0m \u001b[1;32mas\u001b[0m \u001b[0mf\u001b[0m\u001b[1;33m:\u001b[0m\u001b[1;33m\u001b[0m\u001b[1;33m\u001b[0m\u001b[0m\n\u001b[0m\u001b[0;32m   1121\u001b[0m             \u001b[0msaving\u001b[0m\u001b[1;33m.\u001b[0m\u001b[0msave_weights_to_hdf5_group\u001b[0m\u001b[1;33m(\u001b[0m\u001b[0mf\u001b[0m\u001b[1;33m,\u001b[0m \u001b[0mself\u001b[0m\u001b[1;33m.\u001b[0m\u001b[0mlayers\u001b[0m\u001b[1;33m)\u001b[0m\u001b[1;33m\u001b[0m\u001b[1;33m\u001b[0m\u001b[0m\n\u001b[0;32m   1122\u001b[0m             \u001b[0mf\u001b[0m\u001b[1;33m.\u001b[0m\u001b[0mflush\u001b[0m\u001b[1;33m(\u001b[0m\u001b[1;33m)\u001b[0m\u001b[1;33m\u001b[0m\u001b[1;33m\u001b[0m\u001b[0m\n",
      "\u001b[1;31mAttributeError\u001b[0m: module 'h5py' has no attribute 'File'"
     ]
    }
   ],
   "source": [
    "if __name__ == '__main__':\n",
    "    STATE_SIZE = 5 + 3 * 6\n",
    "    TRAINING_MODE = True\n",
    "    FILE_NAME = os.path.basename('').split('.')[0] + \"-\" + datetime.now().strftime(\"%m%d%H%M%S\")\n",
    "\n",
    "    # todo : need to substitute it with env.make() and also remove other parameters such as protobuf_name & verbose!?\n",
    "    # Create an Environment\n",
    "    env = AvoidReavers(move_angle=30, move_dist=3, frames_per_step=24)\n",
    "    action_size = env.action_space.n\n",
    "\n",
    "    # Create your model\n",
    "    model = Sequential()\n",
    "    model.add(Dense(70, input_dim=STATE_SIZE, activation='relu'))\n",
    "    model.add(Dense(50, activation='relu'))\n",
    "    model.add(Dense(40, activation='relu'))\n",
    "    model.add(Dense(30, activation='relu'))\n",
    "    model.add(Dense(action_size, activation='softmax'))\n",
    "    model.summary()\n",
    "\n",
    "    # Create your Agent\n",
    "    agent = ReinforceAgent(STATE_SIZE, action_size, processor=ReaverProcessor(), model=model,\n",
    "                           discount_factor=0.9)\n",
    "\n",
    "    agent.compile(Adam(lr=.01))\n",
    "\n",
    "    # For the Graph\n",
    "    cb_plot = DrawTrainMovingAvgPlotCallback('../../save_graph/' + FILE_NAME + '.png', 10, 5, l_label=['episode_reward'])\n",
    "\n",
    "    # Run your agent\n",
    "    agent.run(env, 10 * 100, train_mode=TRAINING_MODE, verbose=2, callbacks=[cb_plot])\n",
    "\n",
    "    agent.save_weights(FILE_NAME + '.h5f', False)\n",
    "\n",
    "    env.close()\n"
   ]
  }
 ],
 "metadata": {
  "kernelspec": {
   "display_name": "Python 3",
   "language": "python",
   "name": "python3"
  },
  "language_info": {
   "codemirror_mode": {
    "name": "ipython",
    "version": 3
   },
   "file_extension": ".py",
   "mimetype": "text/x-python",
   "name": "python",
   "nbconvert_exporter": "python",
   "pygments_lexer": "ipython3",
   "version": "3.6.8"
  }
 },
 "nbformat": 4,
 "nbformat_minor": 4
}
