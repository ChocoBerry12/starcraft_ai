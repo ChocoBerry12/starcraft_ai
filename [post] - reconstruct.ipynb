{
 "cells": [
  {
   "cell_type": "markdown",
   "metadata": {},
   "source": [
    "# Manual 따라 뼈대만 설계"
   ]
  },
  {
   "cell_type": "code",
   "execution_count": 241,
   "metadata": {},
   "outputs": [],
   "source": [
    "from core.common.agent import Agent\n",
    "from core.common.processor import Processor\n",
    "\n",
    "import numpy as np\n",
    "import os\n",
    "from datetime import datetime\n",
    "from core.common.processor import Processor\n",
    "from saida_gym.starcraft.avoidReavers import AvoidReavers\n",
    "from core.callbacks import DrawTrainMovingAvgPlotCallback\n",
    "import saida_gym.envs.conn.connection_env as Config\n",
    "from keras.models import Model, Sequential\n",
    "from keras.layers import Input, Dense, Reshape\n",
    "from keras.optimizers import Adam\n",
    "import math\n",
    "\n",
    "from core.common.util import OPS\n",
    "import math\n",
    "import random"
   ]
  },
  {
   "cell_type": "code",
   "execution_count": 242,
   "metadata": {},
   "outputs": [],
   "source": [
    "class MyAgent(Agent):\n",
    "    def __init__(self, state_size, action_size, model, discount_factor=0.99, earning_rate=0.001,\n",
    "                 epsilon=1, epsilon_decay=0.999, **kwargs):\n",
    "       \n",
    "        super(MyAgent, self).__init__(**kwargs)\n",
    "\n",
    "        self.action_size = action_size\n",
    "        self.state_szie = state_size\n",
    "        self.episode = 0\n",
    "        self.model = model\n",
    "        self.discount_factor = discount_factor\n",
    "        self.dummy_action,self.dummy_value = np.zeros((1, action_size)), np.zeros((1, 1))\n",
    "        self.observation = None\n",
    "        self.reward = []\n",
    "        self.reward_over_time = []\n",
    "        self.gradient_steps = 0\n",
    "        \n",
    "    def forward(self, observation):\n",
    "        # observation -> policy -> action\n",
    "        # 매 스텝마다 액션 수행\n",
    "        action = 0\n",
    "        return action\n",
    "    \n",
    "    def backward(self, reward, terminal):\n",
    "        # update\n",
    "        # 매 스텝마다 or episode 마다 or 원하는 떄에 업데이트\n",
    "        # fitting\n",
    "        pass\n",
    "    \n",
    "    def compile(self, optimizer, metrics=[]):\n",
    "        #self.model.compile(optimizer=optimizer, loss='mse')\n",
    "        self.compiled=True\n",
    "        return\n",
    "    "
   ]
  },
  {
   "cell_type": "code",
   "execution_count": 243,
   "metadata": {},
   "outputs": [],
   "source": [
    "class MyProcessor(Processor):\n",
    "    def __init__(self):\n",
    "        pass\n",
    "        \n",
    "    def process_step(self, observation, reward, done, info):\n",
    "        #print('> raw observation :', observation)\n",
    "        print('> is_accel :', observation.my_unit[0].accelerating)\n",
    "        print('> raw reward :', reward)\n",
    "        print('> raw done :', done)\n",
    "        print('> raw info :', info)\n",
    "        return observation, reward, done, info\n",
    "    \n",
    "    def process_action(self, action):\n",
    "        print('> raw action :', action)\n",
    "        return [[10, 10, action]]\n",
    "    \n",
    "    def process_observation(self, observation):\n",
    "        return observation\n",
    "    \n",
    "    def process_reward(self, reward):\n",
    "        return reward\n",
    "    \n",
    "    def reshape_reward(self, reward):\n",
    "        return reward"
   ]
  },
  {
   "cell_type": "code",
   "execution_count": 238,
   "metadata": {},
   "outputs": [
    {
     "name": "stdout",
     "output_type": "stream",
     "text": [
      "_________________________________________________________________\n",
      "Layer (type)                 Output Shape              Param #   \n",
      "=================================================================\n",
      "dense_146 (Dense)            (None, 50)                550       \n",
      "_________________________________________________________________\n",
      "dense_147 (Dense)            (None, 50)                2550      \n",
      "_________________________________________________________________\n",
      "dense_148 (Dense)            (None, 30)                1530      \n",
      "_________________________________________________________________\n",
      "dense_149 (Dense)            (None, 1)                 31        \n",
      "=================================================================\n",
      "Total params: 4,661\n",
      "Trainable params: 4,661\n",
      "Non-trainable params: 0\n",
      "_________________________________________________________________\n"
     ]
    }
   ],
   "source": [
    "model = Sequential()\n",
    "model.add(Dense(50, input_dim=10, activation='relu'))\n",
    "model.add(Dense(50, activation='relu'))\n",
    "model.add(Dense(30, activation='relu'))\n",
    "model.add(Dense(1, activation='linear'))\n",
    "model.summary()"
   ]
  },
  {
   "cell_type": "code",
   "execution_count": 239,
   "metadata": {},
   "outputs": [],
   "source": [
    "def launch():\n",
    "    env = AvoidReavers(action_type=1, move_angle=30, move_dist=2, frames_per_step=24, verbose=0, local_speed=30)\n",
    "    #agent = MyAgent(10, 360//env.move_angle + 1, model=model, processor=MyProcessor())\n",
    "    agent = MyAgent(10, 360//env.move_angle + 1, model=None, processor=MyProcessor())\n",
    "    agent.compile(Adam(lr=.01))\n",
    "    agent.run(env, 10, train_mode=True, verbose=2)\n",
    "    env.close()"
   ]
  },
  {
   "cell_type": "code",
   "execution_count": 240,
   "metadata": {
    "collapsed": true,
    "jupyter": {
     "outputs_hidden": true
    }
   },
   "outputs": [
    {
     "name": "stdout",
     "output_type": "stream",
     "text": [
      "Initialize...\n",
      "Shared Memory create\u0000\n",
      "SAIDA_AR25400 Shared memory found.\n",
      "Starting training for 10 steps ...\n",
      "> raw action : 0\n",
      "> is_accel : True\n",
      "> raw reward : 0.0\n",
      "> raw done : False\n",
      "> raw info : {'infoMsg': }\n",
      "> raw action : 0\n",
      "> is_accel : False\n",
      "> raw reward : 0.0\n",
      "> raw done : False\n",
      "> raw info : {'infoMsg': }\n",
      "> raw action : 0\n",
      "> is_accel : True\n",
      "> raw reward : 0.0\n",
      "> raw done : False\n",
      "> raw info : {'infoMsg': }\n",
      "> raw action : 0\n",
      "> is_accel : True\n",
      "> raw reward : -1.0\n",
      "> raw done : False\n",
      "> raw info : {'infoMsg': }\n",
      "> raw action : 0\n",
      "> is_accel : True\n",
      "> raw reward : 0.0\n",
      "> raw done : False\n",
      "> raw info : {'infoMsg': }\n",
      "> raw action : 0\n",
      "> is_accel : True\n",
      "> raw reward : 0.0\n",
      "> raw done : False\n",
      "> raw info : {'infoMsg': }\n",
      "> raw action : 0\n",
      "> is_accel : True\n",
      "> raw reward : 0.0\n",
      "> raw done : False\n",
      "> raw info : {'infoMsg': }\n",
      "> raw action : 0\n",
      "> is_accel : True\n",
      "> raw reward : -1.0\n",
      "> raw done : False\n",
      "> raw info : {'infoMsg': }\n",
      "> raw action : 0\n",
      "> is_accel : True\n",
      "> raw reward : -1.0\n",
      "> raw done : False\n",
      "> raw info : {'infoMsg': }\n",
      "> raw action : 0\n",
      "> is_accel : True\n",
      "> raw reward : -1.0\n",
      "> raw done : False\n",
      "> raw info : {'infoMsg': }\n",
      "Training took 7.2050068999997166 seconds\n",
      "done, took 7.205 seconds\n"
     ]
    }
   ],
   "source": [
    "launch()"
   ]
  }
 ],
 "metadata": {
  "kernelspec": {
   "display_name": "Python 3",
   "language": "python",
   "name": "python3"
  },
  "language_info": {
   "codemirror_mode": {
    "name": "ipython",
    "version": 3
   },
   "file_extension": ".py",
   "mimetype": "text/x-python",
   "name": "python",
   "nbconvert_exporter": "python",
   "pygments_lexer": "ipython3",
   "version": "3.6.8"
  }
 },
 "nbformat": 4,
 "nbformat_minor": 4
}
