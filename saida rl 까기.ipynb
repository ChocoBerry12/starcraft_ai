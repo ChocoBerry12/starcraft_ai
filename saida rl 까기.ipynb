{
 "cells": [
  {
   "cell_type": "markdown",
   "metadata": {},
   "source": [
    "# 코드 까기\n",
    "---\n",
    "## Agent\n",
    "> `python/core/common/agent.py`\n",
    "\n",
    "* 이 클라스는 커스텀 agent 구현할 때 이 base 클라스는 반드시 implement 한다. 그리고 아래 함수들을 재정의한다. 더 세부적인 부분을 건드릴 수도 있다.\n",
    "* 이 클라스는 Env 와 상호작용한다. agent 는 action 을 전달하고 Env 는 observation 과 reward 를 전달해준다. \n",
    "* Processor 클라스와 \n",
    "* 학습 알고리즘을 정의하는 곳이다. 학습법을 테스트하려면 이 곳을 커스텀하여 재정의한다.\n",
    "\n",
    "### Agent class\n",
    " * `forward(observation) -> action` - network 에 input 넣어서 action output 얻는 부분\n",
    " * `backward(reward, terminal) -> metrics` - 학습을 위한 back prop 정의 부분 - metrics 반환\n",
    " * `compile(optimizer, metrics)` - metrics 와 optimizer 를 이용해 network learning 그래프 정의\n",
    " * `load_weights`\n",
    " * `save_weights`"
   ]
  },
  {
   "cell_type": "markdown",
   "metadata": {},
   "source": [
    "---\n",
    "## Processor\n",
    "> `python/core/common/processor.py`\n",
    "\n",
    "* 이 크라스는 Agent - Env 사이에 데이터를 교환해주는 역할을 맡는다. 즉 데이터를 자유롭게 조작하고 설계할 수 있는 곳이다.\n",
    "* Agent 는 학습 알고리즘을 커스텀하는 곳이라면 Processor 는 데이터를 커스텀하는 곳이다.\n",
    "* 그래서 processor 클래스를 implement 해서 사용한다.\n",
    "* 전체구조는 `Agent <-> Processor <-> Env` 형태다.\n",
    "\n",
    "### Processor class\n",
    "* `process_step(self, observation, reward, done, info) -> observation, reward, done, reward` - state, reward 등을 재정의해서 반환\n",
    "* `process_observation(observation) -> observation` - observation 을 재정의. raw 데이터는 json 형태라서 parsing 을 해야함. example 참조\n",
    "* `process_reward(reward) -> reward` - reward 를 재정의\n",
    "* `process_info(info) -> info` - info(flag 등 특정 정보) 를 재정의. hierachy 등의 고급 RL 에 쓰임이 있을 듯. dictionary 형태\n",
    "* `process_action(action) -> action` - action 재정의. network 출력을 scaling 하는 등의 작업을 여기서 해도 될듯."
   ]
  },
  {
   "cell_type": "markdown",
   "metadata": {},
   "source": [
    "---\n",
    "## 구축하기\n",
    "* processor 객체는 Agent 에게 반드시 넘겨준다.\n",
    "* nn model 객체도 만들어서 Agent 에게 넘겨주어야 한다.\n",
    "* `agent.compile` 함수는 nn 학습을 직접 돌리는 함수.\n",
    "* 중간중간 이벤트에 콜백함수를 정의해 그래프 그리기 등의 작업가능. 디버깅이나 체크할 때 유용할 듯.\n",
    "* `agent.run` 함수를 호출하면 모든것이 시작됨. 학습, 시뮬레이션"
   ]
  }
 ],
 "metadata": {
  "kernelspec": {
   "display_name": "Python 3",
   "language": "python",
   "name": "python3"
  },
  "language_info": {
   "codemirror_mode": {
    "name": "ipython",
    "version": 3
   },
   "file_extension": ".py",
   "mimetype": "text/x-python",
   "name": "python",
   "nbconvert_exporter": "python",
   "pygments_lexer": "ipython3",
   "version": "3.6.8"
  }
 },
 "nbformat": 4,
 "nbformat_minor": 4
}
